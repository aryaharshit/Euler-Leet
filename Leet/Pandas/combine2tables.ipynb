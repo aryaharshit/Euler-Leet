{
 "cells": [
  {
   "cell_type": "code",
   "execution_count": null,
   "metadata": {},
   "outputs": [],
   "source": [
    "'''\n",
    "Write a solution to report the first name, last name, city, and state \n",
    "of each person in the Person table. \n",
    "If the address of a personId is not present in the Address table, report null instead.\n",
    "'''\n"
   ]
  },
  {
   "cell_type": "code",
   "execution_count": 2,
   "metadata": {},
   "outputs": [],
   "source": [
    "import pandas as pd \n",
    "from pandasql import sqldf\n"
   ]
  },
  {
   "cell_type": "code",
   "execution_count": 3,
   "metadata": {},
   "outputs": [],
   "source": [
    "\n",
    "person = {\n",
    "    \"personId\": [1, 2],\n",
    "    \"lastName\": ['Wang', 'Alice'],\n",
    "    \"firstName\": ['Allen', 'Bob']\n",
    "}\n",
    "\n",
    "address = {\n",
    "    \"addressId\": [1,2],\n",
    "    \"personId\": [2,3],\n",
    "    \"city\":['New York City', 'Leetcode'],\n",
    "    \"state\": ['New York', 'California']\n",
    "}\n",
    "\n",
    "Persons = pd.DataFrame(person)\n",
    "Address = pd.DataFrame(address)\n"
   ]
  },
  {
   "cell_type": "code",
   "execution_count": 6,
   "metadata": {},
   "outputs": [],
   "source": [
    "def combine_two_tables(df1, df2):\n",
    "    query = sqldf(\n",
    "        \"\"\"\n",
    "        SELECT \n",
    "            df1.firstname,\n",
    "            df1.lastName,\n",
    "            df2.city,\n",
    "            df2.state\n",
    "        FROM df1 \n",
    "            LEFT JOIN df2\n",
    "            ON df1.personId = df2.personId\n",
    "        \"\"\"\n",
    "    )\n",
    "    return query"
   ]
  },
  {
   "cell_type": "code",
   "execution_count": 7,
   "metadata": {},
   "outputs": [],
   "source": [
    "def combine_two_tables(df1, df2):\n",
    "    query = df1.merge(df2, on=\"personId\", how = \"left\")\n",
    "    return query[['firstName', 'lastName', 'city', 'state']]"
   ]
  },
  {
   "cell_type": "code",
   "execution_count": 8,
   "metadata": {},
   "outputs": [
    {
     "data": {
      "text/html": [
       "<div>\n",
       "<style scoped>\n",
       "    .dataframe tbody tr th:only-of-type {\n",
       "        vertical-align: middle;\n",
       "    }\n",
       "\n",
       "    .dataframe tbody tr th {\n",
       "        vertical-align: top;\n",
       "    }\n",
       "\n",
       "    .dataframe thead th {\n",
       "        text-align: right;\n",
       "    }\n",
       "</style>\n",
       "<table border=\"1\" class=\"dataframe\">\n",
       "  <thead>\n",
       "    <tr style=\"text-align: right;\">\n",
       "      <th></th>\n",
       "      <th>firstName</th>\n",
       "      <th>lastName</th>\n",
       "      <th>city</th>\n",
       "      <th>state</th>\n",
       "    </tr>\n",
       "  </thead>\n",
       "  <tbody>\n",
       "    <tr>\n",
       "      <th>0</th>\n",
       "      <td>Allen</td>\n",
       "      <td>Wang</td>\n",
       "      <td>NaN</td>\n",
       "      <td>NaN</td>\n",
       "    </tr>\n",
       "    <tr>\n",
       "      <th>1</th>\n",
       "      <td>Bob</td>\n",
       "      <td>Alice</td>\n",
       "      <td>New York City</td>\n",
       "      <td>New York</td>\n",
       "    </tr>\n",
       "  </tbody>\n",
       "</table>\n",
       "</div>"
      ],
      "text/plain": [
       "  firstName lastName           city     state\n",
       "0     Allen     Wang            NaN       NaN\n",
       "1       Bob    Alice  New York City  New York"
      ]
     },
     "execution_count": 8,
     "metadata": {},
     "output_type": "execute_result"
    }
   ],
   "source": [
    "combine_two_tables(df1=Persons, df2=Address)"
   ]
  }
 ],
 "metadata": {
  "kernelspec": {
   "display_name": "venv",
   "language": "python",
   "name": "python3"
  },
  "language_info": {
   "codemirror_mode": {
    "name": "ipython",
    "version": 3
   },
   "file_extension": ".py",
   "mimetype": "text/x-python",
   "name": "python",
   "nbconvert_exporter": "python",
   "pygments_lexer": "ipython3",
   "version": "3.11.5"
  },
  "orig_nbformat": 4
 },
 "nbformat": 4,
 "nbformat_minor": 2
}
